{
 "cells": [
  {
   "cell_type": "code",
   "execution_count": 1,
   "id": "f4a00a59-9c12-45f7-a7aa-ab6a07b3131d",
   "metadata": {},
   "outputs": [
    {
     "name": "stderr",
     "output_type": "stream",
     "text": [
      "/Users/pan/opt/miniconda3/lib/python3.8/site-packages/scipy/__init__.py:143: UserWarning: A NumPy version >=1.19.5 and <1.27.0 is required for this version of SciPy (detected version 1.19.1)\n",
      "  warnings.warn(f\"A NumPy version >={np_minversion} and <{np_maxversion}\"\n",
      "[nltk_data] Downloading package punkt to /Users/pan/nltk_data...\n",
      "[nltk_data]   Package punkt is already up-to-date!\n",
      "[nltk_data] Downloading package stopwords to /Users/pan/nltk_data...\n",
      "[nltk_data]   Package stopwords is already up-to-date!\n",
      "[nltk_data] Downloading package wordnet to /Users/pan/nltk_data...\n",
      "[nltk_data]   Package wordnet is already up-to-date!\n"
     ]
    },
    {
     "name": "stdout",
     "output_type": "stream",
     "text": [
      "['evlution', 'nutrition', 'optimum', 'nutrition', 'jym', 'supplement', 'science', 'optimum', 'nutrition', 'jym', 'supplement', 'science', 'muscletech', 'jym', 'supplement', 'science', 'evlution', 'nutrition', 'evlution', 'nutrition', 'bsn']\n"
     ]
    }
   ],
   "source": [
    "import numpy as np # linear algebra\n",
    "import pandas as pd # data processing, CSV file I/O (e.g. pd.read_csv)\n",
    "from nltk.tokenize import word_tokenize\n",
    "from nltk.corpus import stopwords\n",
    "from nltk.stem import WordNetLemmatizer\n",
    "from nltk.corpus import wordnet\n",
    "import re\n",
    "\n",
    "# Download NLTK data\n",
    "import nltk\n",
    "nltk.download('punkt')\n",
    "nltk.download('stopwords')\n",
    "nltk.download('wordnet')\n",
    "\n",
    "# Reading the recipes CSV file into a DataFrame\n",
    "recipes = pd.read_csv(\"/Users/pan/Desktop/dataanalytics/bodybuilding_nutrition_products.csv\")\n",
    "\n",
    "# Extracting specific columns from the DataFrame and storing them in separate variables\n",
    "recipes_description = recipes['brand_name']\n",
    "\n",
    "# Getting the first 10 rows of the column as a subset\n",
    "subset_description = recipes_description.head(10)\n",
    "\n",
    "# Convert the subset to a single string\n",
    "text_description = '\\n'.join(subset_description.astype(str))\n",
    "\n",
    "# Tokenize the text\n",
    "tokens = word_tokenize(text_description)\n",
    "\n",
    "# Remove punctuation\n",
    "tokens = [word for word in tokens if re.fullmatch('[a-zA-Z]+', word)]\n",
    "\n",
    "# Convert to lower case\n",
    "tokens = [word.lower() for word in tokens]\n",
    "\n",
    "# Remove stopwords\n",
    "stop_words = set(stopwords.words('english'))\n",
    "tokens = [word for word in tokens if not word in stop_words]\n",
    "\n",
    "# Lemmatize the tokens\n",
    "lemmatizer = WordNetLemmatizer()\n",
    "tokens = [lemmatizer.lemmatize(word) for word in tokens]\n",
    "\n",
    "# Print the cleaned tokens\n",
    "print(tokens)"
   ]
  },
  {
   "cell_type": "code",
   "execution_count": 2,
   "id": "2eef9b4c-e361-4dbb-8899-505cc197bd2c",
   "metadata": {},
   "outputs": [
    {
     "name": "stdout",
     "output_type": "stream",
     "text": [
      "Original Cleaned Text:\n",
      "evlution nutrition optimum nutrition jym supplement science optimum nutrition jym supplement science muscletech jym supplement science evlution nutrition evlution nutrition bsn\n",
      "\n",
      "Text with Words Replaced by Superordinate Terms:\n",
      "evlution organic_process good organic_process jym matter discipline good organic_process jym matter discipline muscletech jym matter discipline evlution organic_process evlution organic_process bsn\n"
     ]
    }
   ],
   "source": [
    "from nltk.tokenize import sent_tokenize\n",
    "\n",
    "# Function to get the superordinate term (hypernym)\n",
    "def get_hypernym(word):\n",
    "    synsets = wordnet.synsets(word)\n",
    "    if synsets:\n",
    "        hypernyms = synsets[0].hypernyms()\n",
    "        if hypernyms:\n",
    "            return hypernyms[0].lemmas()[0].name()\n",
    "    return word\n",
    "\n",
    "# Function to process and replace words in a sentence with their superordinate terms\n",
    "def replace_words_with_hypernyms(text):\n",
    "    sentences = sent_tokenize(text)\n",
    "    new_sentences = []\n",
    "    for sentence in sentences:\n",
    "        words = word_tokenize(sentence)\n",
    "        new_words = [get_hypernym(word) if re.fullmatch('[a-zA-Z]+', word) else word for word in words]\n",
    "        new_sentence = ' '.join(new_words)\n",
    "        new_sentences.append(new_sentence)\n",
    "    return ' '.join(new_sentences)\n",
    "\n",
    "# Apply the replacement function to the cleaned text\n",
    "cleaned_text = ' '.join(tokens)  # Convert the cleaned tokens back to a single string\n",
    "new_text = replace_words_with_hypernyms(cleaned_text)\n",
    "\n",
    "# Print the original cleaned text and the new text with words replaced by their superordinate terms\n",
    "print(\"Original Cleaned Text:\")\n",
    "print(cleaned_text)\n",
    "print(\"\\nText with Words Replaced by Superordinate Terms:\")\n",
    "print(new_text)"
   ]
  },
  {
   "cell_type": "code",
   "execution_count": 3,
   "id": "d44927d9-5b55-4095-ac26-db32006ea6e0",
   "metadata": {},
   "outputs": [
    {
     "name": "stdout",
     "output_type": "stream",
     "text": [
      "evlution nutrition optimum nutrition jym supplement science optimum nutrition jym supplement science muscletech jym supplement science evlution nutrition evlution nutrition bsn\n",
      "evlution nutrition optimum nutrition jym supplement science optimum nutrition jym supplement science muscletech jym supplement science evlution nutrition evlution nutrition bsn\n",
      "evlution nutrition optimum nutrition jym supplement science optimum nutrition jym supplement science muscletech jym supplement science evlution nutrition evlution nutrition bsn\n",
      "evlution nutrition optimum nutrition jym supplement science optimum nutrition jym supplement science muscletech jym supplement science evlution nutrition evlution nutrition bsn\n",
      "evlution nutrition optimum nutrition jym supplement science optimum nutrition jym supplement science muscletech jym supplement science evlution nutrition evlution nutrition bsn\n",
      "evlution nutrition optimum nutrition jym supplement science optimum nutrition jym supplement science muscletech jym supplement science evlution nutrition evlution nutrition bsn\n",
      "evlution nutrition optimum nutrition jym supplement science optimum nutrition jym supplement science muscletech jym supplement science evlution nutrition evlution nutrition bsn\n",
      "evlution nutrition optimum nutrition jym supplement science optimum nutrition jym supplement science muscletech jym supplement science evlution nutrition evlution nutrition bsn\n",
      "evlution nutrition optimum nutrition jym supplement science optimum nutrition jym supplement science muscletech jym supplement science evlution nutrition evlution nutrition bsn\n",
      "evlution nutrition optimum nutrition jym supplement science optimum nutrition jym supplement science muscletech jym supplement science evlution nutrition evlution nutrition bsn\n",
      "evlution nutrition optimum nutrition jym supplement science optimum nutrition jym supplement science muscletech jym supplement science evlution nutrition evlution nutrition bsn\n",
      "evlution nutrition optimum nutrition jym supplement science optimum nutrition jym supplement science muscletech jym supplement science evlution nutrition evlution nutrition bsn\n",
      "evlution nutrition optimum nutrition jym supplement science optimum nutrition jym supplement science muscletech jym supplement science evlution nutrition evlution nutrition bsn\n",
      "evlution nutrition optimum nutrition jym supplement science optimum nutrition jym supplement science muscletech jym supplement science evlution nutrition evlution nutrition bsn\n",
      "evlution nutrition optimum nutrition jym supplement science optimum nutrition jym supplement science muscletech jym supplement science evlution nutrition evlution nutrition bsn\n",
      "evlution nutrition optimum nutrition jym supplement science optimum nutrition jym supplement science muscletech jym supplement science evlution nutrition evlution nutrition bsn\n",
      "evlution nutrition optimum nutrition jym supplement science optimum nutrition jym supplement science muscletech jym supplement science evlution nutrition evlution nutrition bsn\n",
      "evlution nutrition optimum nutrition jym supplement science optimum nutrition jym supplement science muscletech jym supplement science evlution nutrition evlution nutrition bsn\n",
      "evlution nutrition optimum nutrition jym supplement science optimum nutrition jym supplement science muscletech jym supplement science evlution nutrition evlution nutrition bsn\n",
      "evlution nutrition optimum nutrition jym supplement science optimum nutrition jym supplement science muscletech jym supplement science evlution nutrition evlution nutrition bsn\n",
      "evlution nutrition optimum nutrition jym supplement science optimum nutrition jym supplement science muscletech jym supplement science evlution nutrition evlution nutrition bsn\n",
      "evlution nutrition optimum nutrition jym supplement science optimum nutrition jym supplement science muscletech jym supplement science evlution nutrition evlution nutrition bsn\n",
      "evlution nutrition optimum nutrition jym supplement science optimum nutrition jym supplement science muscletech jym supplement science evlution nutrition evlution nutrition bsn\n",
      "evlution nutrition optimum nutrition jym supplement science optimum nutrition jym supplement science muscletech jym supplement science evlution nutrition evlution nutrition bsn\n",
      "evlution nutrition optimum nutrition jym supplement science optimum nutrition jym supplement science muscletech jym supplement science evlution nutrition evlution nutrition bsn\n",
      "evlution nutrition optimum nutrition jym supplement science optimum nutrition jym supplement science muscletech jym supplement science evlution nutrition evlution nutrition bsn\n",
      "evlution nutrition optimum nutrition jym supplement science optimum nutrition jym supplement science muscletech jym supplement science evlution nutrition evlution nutrition bsn\n",
      "evlution nutrition optimum nutrition jym supplement science optimum nutrition jym supplement science muscletech jym supplement science evlution nutrition evlution nutrition bsn\n",
      "evlution nutrition optimum nutrition jym supplement science optimum nutrition jym supplement science muscletech jym supplement science evlution nutrition evlution nutrition bsn\n",
      "evlution nutrition optimum nutrition jym supplement science optimum nutrition jym supplement science muscletech jym supplement science evlution nutrition evlution nutrition bsn\n",
      "evlution nutrition optimum nutrition jym supplement science optimum nutrition jym supplement science muscletech jym supplement science evlution nutrition evlution nutrition bsn\n",
      "evlution nutrition optimum nutrition jym supplement science optimum nutrition jym supplement science muscletech jym supplement science evlution nutrition evlution nutrition bsn\n",
      "evlution nutrition optimum nutrition jym supplement science optimum nutrition jym supplement science muscletech jym supplement science evlution nutrition evlution nutrition bsn\n",
      "evlution nutrition optimum nutrition jym supplement science optimum nutrition jym supplement science muscletech jym supplement science evlution nutrition evlution nutrition bsn\n",
      "evlution nutrition optimum nutrition jym supplement science optimum nutrition jym supplement science muscletech jym supplement science evlution nutrition evlution nutrition bsn\n",
      "evlution nutrition optimum nutrition jym supplement science optimum nutrition jym supplement science muscletech jym supplement science evlution nutrition evlution nutrition bsn\n"
     ]
    },
    {
     "name": "stderr",
     "output_type": "stream",
     "text": [
      "[nltk_data] Downloading package wordnet to /Users/pan/nltk_data...\n",
      "[nltk_data]   Package wordnet is already up-to-date!\n"
     ]
    }
   ],
   "source": [
    "import nltk\n",
    "nltk.download('wordnet')\n",
    "from nltk.corpus import wordnet as wn\n",
    "# Function to get the list of synonyms for a given word\n",
    "def get_synonyms(word):\n",
    "    synonyms = []\n",
    "    for syn in wn.synsets(word):\n",
    "        for lemma in syn.lemmas():\n",
    "            synonyms.append(lemma.name())\n",
    "    return list(set(synonyms))\n",
    "\n",
    "# Function to process and replace a specific word in the text with multiple words from a list\n",
    "def replace_word_with_list(text, word_to_replace, replacement_words):\n",
    "    new_texts = []\n",
    "    for replacement_word in replacement_words:\n",
    "        new_text = text.replace(word_to_replace, replacement_word)\n",
    "        new_texts.append(new_text)\n",
    "    return new_texts\n",
    "\n",
    "# Get the synonyms of a specific sentiment word\n",
    "sentiment_word = 'love'  # You can change this to any sentiment word present in the text\n",
    "synonyms = get_synonyms(sentiment_word)\n",
    "\n",
    "# Apply the replacement function to the cleaned text for the sentiment word\n",
    "cleaned_text = ' '.join(tokens)  # Convert the cleaned tokens back to a single string\n",
    "new_texts = replace_word_with_list(cleaned_text, sentiment_word, synonyms)\n",
    "\n",
    "# Print the new texts with the sentiment word replaced by its synonyms\n",
    "for new_text in new_texts:\n",
    "    print(new_text)"
   ]
  },
  {
   "cell_type": "code",
   "execution_count": 4,
   "id": "97bc749c-679a-4748-acf3-0b637396a4e1",
   "metadata": {
    "ExecuteTime": {
     "end_time": "2023-11-06T06:15:16.214469Z",
     "start_time": "2023-11-06T06:15:16.195597Z"
    }
   },
   "outputs": [
    {
     "name": "stdout",
     "output_type": "stream",
     "text": [
      "(S (NP (N Stress)) (VP (V creates) (NP (N acne))))\n"
     ]
    },
    {
     "data": {
      "text/plain": "Tree('S', [Tree('NP', [Tree('N', ['Stress'])]), Tree('VP', [Tree('V', ['creates']), Tree('NP', [Tree('N', ['acne'])])])])",
      "image/svg+xml": "<svg baseProfile=\"full\" height=\"216px\" preserveAspectRatio=\"xMidYMid meet\" style=\"font-family: times, serif; font-weight: normal; font-style: normal; font-size: 16px;\" version=\"1.1\" viewBox=\"0,0,184.0,216.0\" width=\"184px\" xmlns=\"http://www.w3.org/2000/svg\" xmlns:ev=\"http://www.w3.org/2001/xml-events\" xmlns:xlink=\"http://www.w3.org/1999/xlink\"><defs /><svg width=\"100%\" x=\"0\" y=\"0px\"><defs /><text text-anchor=\"middle\" x=\"50%\" y=\"16px\">S</text></svg><svg width=\"34.7826%\" x=\"0%\" y=\"48px\"><defs /><svg width=\"100%\" x=\"0\" y=\"0px\"><defs /><text text-anchor=\"middle\" x=\"50%\" y=\"16px\">NP</text></svg><svg width=\"100%\" x=\"0%\" y=\"48px\"><defs /><svg width=\"100%\" x=\"0\" y=\"0px\"><defs /><text text-anchor=\"middle\" x=\"50%\" y=\"16px\">N</text></svg><svg width=\"100%\" x=\"0%\" y=\"48px\"><defs /><svg width=\"100%\" x=\"0\" y=\"0px\"><defs /><text text-anchor=\"middle\" x=\"50%\" y=\"16px\">Stress</text></svg></svg><line stroke=\"black\" x1=\"50%\" x2=\"50%\" y1=\"19.2px\" y2=\"48px\" /></svg><line stroke=\"black\" x1=\"50%\" x2=\"50%\" y1=\"19.2px\" y2=\"48px\" /></svg><line stroke=\"black\" x1=\"50%\" x2=\"17.3913%\" y1=\"19.2px\" y2=\"48px\" /><svg width=\"65.2174%\" x=\"34.7826%\" y=\"48px\"><defs /><svg width=\"100%\" x=\"0\" y=\"0px\"><defs /><text text-anchor=\"middle\" x=\"50%\" y=\"16px\">VP</text></svg><svg width=\"60%\" x=\"0%\" y=\"48px\"><defs /><svg width=\"100%\" x=\"0\" y=\"0px\"><defs /><text text-anchor=\"middle\" x=\"50%\" y=\"16px\">V</text></svg><svg width=\"100%\" x=\"0%\" y=\"48px\"><defs /><svg width=\"100%\" x=\"0\" y=\"0px\"><defs /><text text-anchor=\"middle\" x=\"50%\" y=\"16px\">creates</text></svg></svg><line stroke=\"black\" x1=\"50%\" x2=\"50%\" y1=\"19.2px\" y2=\"48px\" /></svg><line stroke=\"black\" x1=\"50%\" x2=\"30%\" y1=\"19.2px\" y2=\"48px\" /><svg width=\"40%\" x=\"60%\" y=\"48px\"><defs /><svg width=\"100%\" x=\"0\" y=\"0px\"><defs /><text text-anchor=\"middle\" x=\"50%\" y=\"16px\">NP</text></svg><svg width=\"100%\" x=\"0%\" y=\"48px\"><defs /><svg width=\"100%\" x=\"0\" y=\"0px\"><defs /><text text-anchor=\"middle\" x=\"50%\" y=\"16px\">N</text></svg><svg width=\"100%\" x=\"0%\" y=\"48px\"><defs /><svg width=\"100%\" x=\"0\" y=\"0px\"><defs /><text text-anchor=\"middle\" x=\"50%\" y=\"16px\">acne</text></svg></svg><line stroke=\"black\" x1=\"50%\" x2=\"50%\" y1=\"19.2px\" y2=\"48px\" /></svg><line stroke=\"black\" x1=\"50%\" x2=\"50%\" y1=\"19.2px\" y2=\"48px\" /></svg><line stroke=\"black\" x1=\"50%\" x2=\"80%\" y1=\"19.2px\" y2=\"48px\" /></svg><line stroke=\"black\" x1=\"50%\" x2=\"67.3913%\" y1=\"19.2px\" y2=\"48px\" /></svg>"
     },
     "execution_count": 4,
     "metadata": {},
     "output_type": "execute_result"
    }
   ],
   "source": [
    "import nltk\n",
    "from nltk import word_tokenize\n",
    "import svgling\n",
    "svgling.disable_nltk_png()\n",
    "# Create a simplified CFG for the sentence \"we love grits\"\n",
    "grammar = nltk.CFG.fromstring(\"\"\"\n",
    "S -> NP VP\n",
    "NP -> N\n",
    "VP -> V NP\n",
    "N -> \"Stress\" | \"acne\"\n",
    "V -> \"creates\"\n",
    "\"\"\")\n",
    "\n",
    "# Parse and visualize the sentence\n",
    "\n",
    "\n",
    "sent = nltk.word_tokenize(\"Stress creates acne\")\n",
    "parser = nltk.ChartParser(grammar)\n",
    "# parse the sentence\n",
    "trees = list(parser.parse(sent))\n",
    "# print a text-formatted parse tree\n",
    "print(trees[0])\n",
    "# print an SVG formatted parse tree\n",
    "trees[0]"
   ]
  },
  {
   "cell_type": "code",
   "execution_count": 39,
   "id": "40d31dae-d90a-4885-b109-52bdfd820e3d",
   "metadata": {},
   "outputs": [
    {
     "name": "stdout",
     "output_type": "stream",
     "text": [
      "[('carbohydrates', 'INGREDIENTS'), ('energy', 'ATMOSPHERE'), ('fats', 'INGREDIENTS'), ('insulation', 'ATMOSPHERE'), ('minerals', 'INGREDIENTS'), ('bone health', 'ATMOSPHERE'), ('proteins', 'INGREDIENTS'), ('muscle development', 'ATMOSPHERE'), ('vitamins', 'INGREDIENTS'), ('overall well-being', 'ATMOSPHERE')]\n"
     ]
    }
   ],
   "source": [
    "# use the rule-based matcher in spaCy to analyze a user’s utterance to find values for these slots.\n",
    "\n",
    "import spacy\n",
    "from spacy.lang.en import English\n",
    "\n",
    "nlp = English()\n",
    "\n",
    "ruler = nlp.add_pipe(\"entity_ruler\")\n",
    "ingredients_patterns = [\n",
    "    {\"label\": \"INGREDIENTS\", \"pattern\": \"carbohydrates\",},\n",
    "    {\"label\": \"INGREDIENTS\", \"pattern\": \"fats\"},\n",
    "    {\"label\": \"INGREDIENTS\", \"pattern\": \"minerals\"},\n",
    "    {\"label\": \"INGREDIENTS\", \"pattern\": \"proteins\"},\n",
    "    {\"label\": \"INGREDIENTS\", \"pattern\": \"vitamins\"}]\n",
    "atmosphere_patterns = [\n",
    "    {\"label\": \"ATMOSPHERE\", \"pattern\": \"energy\"},\n",
    "    {\"label\": \"ATMOSPHERE\", \"pattern\": \"insulation\"},\n",
    "    {\"label\": \"ATMOSPHERE\", \"pattern\": \"bone health\"},\n",
    "    {\"label\": \"ATMOSPHERE\", \"pattern\": \"muscle development\"},\n",
    "    {\"label\": \"ATMOSPHERE\", \"pattern\": \"overall well-being\"}\n",
    "]\n",
    "\n",
    "ruler.add_patterns(ingredients_patterns)\n",
    "ruler.add_patterns(atmosphere_patterns)\n",
    "\n",
    "doc = nlp(\"A balanced diet should include a variety of nutrients such as carbohydrates for energy, fats for insulation, minerals for bone health, proteins for muscle development, vitamins for overall well-being, and water for hydration.\")\n",
    "print([(ent.text, ent.label_) for ent in doc.ents])"
   ]
  },
  {
   "cell_type": "code",
   "execution_count": 40,
   "id": "691b2e4e-16df-4362-9d93-1088ba092b3f",
   "metadata": {},
   "outputs": [
    {
     "data": {
      "text/html": [
       "<span class=\"tex2jax_ignore\"><div class=\"entities\" style=\"line-height: 2.5; direction: ltr\">A balanced diet should include a variety of nutrients such as \n",
       "<mark class=\"entity\" style=\"background: #ea7e7e; padding: 0.45em 0.6em; margin: 0 0.25em; line-height: 1; border-radius: 0.35em;\">\n",
       "    carbohydrates\n",
       "    <span style=\"font-size: 0.8em; font-weight: bold; line-height: 1; border-radius: 0.35em; vertical-align: middle; margin-left: 0.5rem\">INGREDIENTS</span>\n",
       "</mark>\n",
       " for \n",
       "<mark class=\"entity\" style=\"background: #abcdef; padding: 0.45em 0.6em; margin: 0 0.25em; line-height: 1; border-radius: 0.35em;\">\n",
       "    energy\n",
       "    <span style=\"font-size: 0.8em; font-weight: bold; line-height: 1; border-radius: 0.35em; vertical-align: middle; margin-left: 0.5rem\">ATMOSPHERE</span>\n",
       "</mark>\n",
       ", \n",
       "<mark class=\"entity\" style=\"background: #ea7e7e; padding: 0.45em 0.6em; margin: 0 0.25em; line-height: 1; border-radius: 0.35em;\">\n",
       "    fats\n",
       "    <span style=\"font-size: 0.8em; font-weight: bold; line-height: 1; border-radius: 0.35em; vertical-align: middle; margin-left: 0.5rem\">INGREDIENTS</span>\n",
       "</mark>\n",
       " for \n",
       "<mark class=\"entity\" style=\"background: #abcdef; padding: 0.45em 0.6em; margin: 0 0.25em; line-height: 1; border-radius: 0.35em;\">\n",
       "    insulation\n",
       "    <span style=\"font-size: 0.8em; font-weight: bold; line-height: 1; border-radius: 0.35em; vertical-align: middle; margin-left: 0.5rem\">ATMOSPHERE</span>\n",
       "</mark>\n",
       ", \n",
       "<mark class=\"entity\" style=\"background: #ea7e7e; padding: 0.45em 0.6em; margin: 0 0.25em; line-height: 1; border-radius: 0.35em;\">\n",
       "    minerals\n",
       "    <span style=\"font-size: 0.8em; font-weight: bold; line-height: 1; border-radius: 0.35em; vertical-align: middle; margin-left: 0.5rem\">INGREDIENTS</span>\n",
       "</mark>\n",
       " for \n",
       "<mark class=\"entity\" style=\"background: #abcdef; padding: 0.45em 0.6em; margin: 0 0.25em; line-height: 1; border-radius: 0.35em;\">\n",
       "    bone health\n",
       "    <span style=\"font-size: 0.8em; font-weight: bold; line-height: 1; border-radius: 0.35em; vertical-align: middle; margin-left: 0.5rem\">ATMOSPHERE</span>\n",
       "</mark>\n",
       ", \n",
       "<mark class=\"entity\" style=\"background: #ea7e7e; padding: 0.45em 0.6em; margin: 0 0.25em; line-height: 1; border-radius: 0.35em;\">\n",
       "    proteins\n",
       "    <span style=\"font-size: 0.8em; font-weight: bold; line-height: 1; border-radius: 0.35em; vertical-align: middle; margin-left: 0.5rem\">INGREDIENTS</span>\n",
       "</mark>\n",
       " for \n",
       "<mark class=\"entity\" style=\"background: #abcdef; padding: 0.45em 0.6em; margin: 0 0.25em; line-height: 1; border-radius: 0.35em;\">\n",
       "    muscle development\n",
       "    <span style=\"font-size: 0.8em; font-weight: bold; line-height: 1; border-radius: 0.35em; vertical-align: middle; margin-left: 0.5rem\">ATMOSPHERE</span>\n",
       "</mark>\n",
       ", \n",
       "<mark class=\"entity\" style=\"background: #ea7e7e; padding: 0.45em 0.6em; margin: 0 0.25em; line-height: 1; border-radius: 0.35em;\">\n",
       "    vitamins\n",
       "    <span style=\"font-size: 0.8em; font-weight: bold; line-height: 1; border-radius: 0.35em; vertical-align: middle; margin-left: 0.5rem\">INGREDIENTS</span>\n",
       "</mark>\n",
       " for \n",
       "<mark class=\"entity\" style=\"background: #abcdef; padding: 0.45em 0.6em; margin: 0 0.25em; line-height: 1; border-radius: 0.35em;\">\n",
       "    overall well-being\n",
       "    <span style=\"font-size: 0.8em; font-weight: bold; line-height: 1; border-radius: 0.35em; vertical-align: middle; margin-left: 0.5rem\">ATMOSPHERE</span>\n",
       "</mark>\n",
       ", and water for hydration.</div></span>"
      ],
      "text/plain": [
       "<IPython.core.display.HTML object>"
      ]
     },
     "metadata": {},
     "output_type": "display_data"
    }
   ],
   "source": [
    "# Slot visualization with displacy\n",
    "from spacy import displacy\n",
    "colors = {\"INGREDIENTS\": \"#ea7e7e\",\n",
    "          \"ATMOSPHERE\": \"#abcdef\"}\n",
    "options = {\"ents\": [\"INGREDIENTS\",\"ATMOSPHERE\"], \"colors\": colors}\n",
    "displacy.render(doc, style=\"ent\", options=options,jupyter = True)"
   ]
  },
  {
   "cell_type": "code",
   "execution_count": null,
   "id": "df48b921-b660-4ff3-8943-69155f554068",
   "metadata": {},
   "outputs": [],
   "source": []
  }
 ],
 "metadata": {
  "kernelspec": {
   "display_name": "Python 3",
   "language": "python",
   "name": "python3"
  },
  "language_info": {
   "codemirror_mode": {
    "name": "ipython",
    "version": 3
   },
   "file_extension": ".py",
   "mimetype": "text/x-python",
   "name": "python",
   "nbconvert_exporter": "python",
   "pygments_lexer": "ipython3",
   "version": "3.8.3"
  }
 },
 "nbformat": 4,
 "nbformat_minor": 5
}
