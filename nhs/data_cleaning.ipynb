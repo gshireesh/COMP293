{
 "cells": [
  {
   "cell_type": "code",
   "execution_count": 1,
   "metadata": {
    "ExecuteTime": {
     "end_time": "2023-12-13T00:36:48.408635Z",
     "start_time": "2023-12-13T00:36:46.198463Z"
    }
   },
   "outputs": [
    {
     "data": {
      "text/plain": [
       "1702428361332216000"
      ]
     },
     "execution_count": 1,
     "metadata": {},
     "output_type": "execute_result"
    }
   ],
   "source": [
    "import time\n",
    "\n",
    "import pandas as pd\n",
    "\n",
    "time.time_ns()"
   ]
  },
  {
   "cell_type": "code",
   "execution_count": 2,
   "metadata": {
    "ExecuteTime": {
     "end_time": "2023-12-13T00:36:48.922661Z",
     "start_time": "2023-12-13T00:36:48.411580Z"
    }
   },
   "outputs": [],
   "source": [
    "from utils import collect_data\n",
    "corpus = collect_data()"
   ]
  },
  {
   "cell_type": "code",
   "execution_count": 3,
   "metadata": {
    "ExecuteTime": {
     "end_time": "2023-12-13T00:36:48.940589Z",
     "start_time": "2023-12-13T00:36:48.838003Z"
    }
   },
   "outputs": [],
   "source": [
    "memo = {f\"{k}.csv\": dict() for k in corpus.keys()}"
   ]
  },
  {
   "cell_type": "code",
   "execution_count": 4,
   "metadata": {
    "ExecuteTime": {
     "end_time": "2023-12-13T00:36:50.947625Z",
     "start_time": "2023-12-13T00:36:48.944222Z"
    }
   },
   "outputs": [],
   "source": [
    "import pandas as pd\n",
    "for filename in corpus.keys():\n",
    "    df = pd.read_csv(\"./qna/\"+filename+\".csv\")\n",
    "    memo[filename+'.csv'][\"count\"] = len(df)"
   ]
  },
  {
   "cell_type": "code",
   "execution_count": 5,
   "metadata": {
    "ExecuteTime": {
     "end_time": "2023-12-13T00:36:50.948013Z",
     "start_time": "2023-12-13T00:36:50.927104Z"
    }
   },
   "outputs": [
    {
     "data": {
      "text/html": [
       "<div>\n",
       "<style scoped>\n",
       "    .dataframe tbody tr th:only-of-type {\n",
       "        vertical-align: middle;\n",
       "    }\n",
       "\n",
       "    .dataframe tbody tr th {\n",
       "        vertical-align: top;\n",
       "    }\n",
       "\n",
       "    .dataframe thead th {\n",
       "        text-align: right;\n",
       "    }\n",
       "</style>\n",
       "<table border=\"1\" class=\"dataframe\">\n",
       "  <thead>\n",
       "    <tr style=\"text-align: right;\">\n",
       "      <th></th>\n",
       "      <th>name</th>\n",
       "      <th>value</th>\n",
       "    </tr>\n",
       "  </thead>\n",
       "  <tbody>\n",
       "    <tr>\n",
       "      <th>0</th>\n",
       "      <td>Food colours and hyperactivity</td>\n",
       "      <td>20</td>\n",
       "    </tr>\n",
       "    <tr>\n",
       "      <th>1</th>\n",
       "      <td>Lung health check</td>\n",
       "      <td>20</td>\n",
       "    </tr>\n",
       "    <tr>\n",
       "      <th>2</th>\n",
       "      <td>Carotid endarterectomy</td>\n",
       "      <td>20</td>\n",
       "    </tr>\n",
       "    <tr>\n",
       "      <th>3</th>\n",
       "      <td>Middle East respiratory syndrome MER</td>\n",
       "      <td>20</td>\n",
       "    </tr>\n",
       "    <tr>\n",
       "      <th>4</th>\n",
       "      <td>Kidney infection</td>\n",
       "      <td>29</td>\n",
       "    </tr>\n",
       "    <tr>\n",
       "      <th>...</th>\n",
       "      <td>...</td>\n",
       "      <td>...</td>\n",
       "    </tr>\n",
       "    <tr>\n",
       "      <th>973</th>\n",
       "      <td>Osteomyeliti</td>\n",
       "      <td>20</td>\n",
       "    </tr>\n",
       "    <tr>\n",
       "      <th>974</th>\n",
       "      <td>Floaters and flashes in the eye</td>\n",
       "      <td>20</td>\n",
       "    </tr>\n",
       "    <tr>\n",
       "      <th>975</th>\n",
       "      <td>TaySachs disease</td>\n",
       "      <td>20</td>\n",
       "    </tr>\n",
       "    <tr>\n",
       "      <th>976</th>\n",
       "      <td>lapped cheek syndrome</td>\n",
       "      <td>20</td>\n",
       "    </tr>\n",
       "    <tr>\n",
       "      <th>977</th>\n",
       "      <td>Mitral valve problem</td>\n",
       "      <td>21</td>\n",
       "    </tr>\n",
       "  </tbody>\n",
       "</table>\n",
       "<p>978 rows × 2 columns</p>\n",
       "</div>"
      ],
      "text/plain": [
       "                                     name  value\n",
       "0          Food colours and hyperactivity     20\n",
       "1                       Lung health check     20\n",
       "2                  Carotid endarterectomy     20\n",
       "3    Middle East respiratory syndrome MER     20\n",
       "4                        Kidney infection     29\n",
       "..                                    ...    ...\n",
       "973                          Osteomyeliti     20\n",
       "974       Floaters and flashes in the eye     20\n",
       "975                      TaySachs disease     20\n",
       "976                 lapped cheek syndrome     20\n",
       "977                  Mitral valve problem     21\n",
       "\n",
       "[978 rows x 2 columns]"
      ]
     },
     "execution_count": 5,
     "metadata": {},
     "output_type": "execute_result"
    }
   ],
   "source": [
    "clean_index_name = lambda x: x.strip(\" NHS.txt.csv\")\n",
    "df = pd.DataFrame([{\"name\":clean_index_name(k),\"value\":v[\"count\"]} for k,v in memo.items()])\n",
    "df"
   ]
  },
  {
   "cell_type": "code",
   "execution_count": 14,
   "metadata": {
    "ExecuteTime": {
     "end_time": "2023-12-13T00:36:52.826764Z",
     "start_time": "2023-12-13T00:36:51.767643Z"
    }
   },
   "outputs": [],
   "source": [
    "import plotly.express as px\n",
    "\n",
    "import plotly.express as px\n",
    "\n",
    "fig = px.bar_polar(df, r=\"value\", theta=\"name\",\n",
    "                   color=\"value\", template=\"plotly_dark\",\n",
    "                   color_discrete_sequence= px.colors.sequential.Plasma_r,\n",
    "                   width=2400, height=2000\n",
    "                )\n",
    "fig.show(renderer=\"browser\")"
   ]
  },
  {
   "cell_type": "code",
   "execution_count": 7,
   "metadata": {},
   "outputs": [],
   "source": [
    "def show(fig):\n",
    "    import io\n",
    "    import plotly.io as pio\n",
    "    from PIL import Image\n",
    "    buf = io.BytesIO()\n",
    "    pio.write_image(fig, buf)\n",
    "    img = Image.open(buf)\n",
    "    img.show()\n",
    "\n",
    "show(fig)"
   ]
  },
  {
   "cell_type": "code",
   "execution_count": 15,
   "metadata": {
    "ExecuteTime": {
     "end_time": "2023-12-13T00:37:01.862880Z",
     "start_time": "2023-12-13T00:36:56.340456Z"
    }
   },
   "outputs": [],
   "source": [
    "fig.write_image(\"./fig1.png\")"
   ]
  },
  {
   "cell_type": "code",
   "execution_count": 32,
   "metadata": {
    "ExecuteTime": {
     "end_time": "2023-12-13T00:36:31.238257Z",
     "start_time": "2023-12-13T00:36:31.222877Z"
    }
   },
   "outputs": [],
   "source": [
    "import kaleido"
   ]
  },
  {
   "cell_type": "code",
   "execution_count": 20,
   "metadata": {
    "ExecuteTime": {
     "end_time": "2023-12-12T19:52:12.141064Z",
     "start_time": "2023-12-12T19:52:08.974987Z"
    }
   },
   "outputs": [],
   "source": [
    "df = None\n",
    "clean_index_name = lambda x: x.strip(\" NHS.txt.csv\")\n",
    "for filename in corpus.keys():\n",
    "    data = pd.read_csv(\"./qna/\"+filename+'.csv')\n",
    "    text = open(f\"./content/{filename}\").read()\n",
    "    data[\"filename\"] = clean_index_name(filename)\n",
    "    data[\"context\"] = text\n",
    "    data[\"count\"] = len(data)\n",
    "    df = pd.concat([data, df])"
   ]
  },
  {
   "cell_type": "code",
   "execution_count": 21,
   "metadata": {
    "ExecuteTime": {
     "end_time": "2023-12-12T19:52:12.713801Z",
     "start_time": "2023-12-12T19:52:12.706078Z"
    }
   },
   "outputs": [],
   "source": [
    "df.drop(columns = ['Unnamed: 0'], inplace = True)"
   ]
  },
  {
   "cell_type": "code",
   "execution_count": 22,
   "metadata": {
    "ExecuteTime": {
     "end_time": "2023-12-12T19:52:15.214352Z",
     "start_time": "2023-12-12T19:52:15.213861Z"
    }
   },
   "outputs": [
    {
     "data": {
      "text/html": [
       "<div>\n",
       "<style scoped>\n",
       "    .dataframe tbody tr th:only-of-type {\n",
       "        vertical-align: middle;\n",
       "    }\n",
       "\n",
       "    .dataframe tbody tr th {\n",
       "        vertical-align: top;\n",
       "    }\n",
       "\n",
       "    .dataframe thead th {\n",
       "        text-align: right;\n",
       "    }\n",
       "</style>\n",
       "<table border=\"1\" class=\"dataframe\">\n",
       "  <thead>\n",
       "    <tr style=\"text-align: right;\">\n",
       "      <th></th>\n",
       "      <th>q</th>\n",
       "      <th>i</th>\n",
       "      <th>a</th>\n",
       "      <th>filename</th>\n",
       "      <th>context</th>\n",
       "      <th>count</th>\n",
       "    </tr>\n",
       "  </thead>\n",
       "  <tbody>\n",
       "    <tr>\n",
       "      <th>0</th>\n",
       "      <td>What are the main problems that affect the mit...</td>\n",
       "      <td>&lt;noinput&gt;</td>\n",
       "      <td>The main problems that affect the mitral valve...</td>\n",
       "      <td>Mitral valve problem</td>\n",
       "      <td>The mitral valve is a small flap in the heart...</td>\n",
       "      <td>21</td>\n",
       "    </tr>\n",
       "    <tr>\n",
       "      <th>1</th>\n",
       "      <td>What are the symptoms of mitral valve prolapse?</td>\n",
       "      <td>&lt;noinput&gt;</td>\n",
       "      <td>Symptoms of mitral valve prolapse can include ...</td>\n",
       "      <td>Mitral valve problem</td>\n",
       "      <td>The mitral valve is a small flap in the heart...</td>\n",
       "      <td>21</td>\n",
       "    </tr>\n",
       "    <tr>\n",
       "      <th>2</th>\n",
       "      <td>How is mitral valve prolapse treated?</td>\n",
       "      <td>&lt;noinput&gt;</td>\n",
       "      <td>Treatment for mitral valve prolapse may involv...</td>\n",
       "      <td>Mitral valve problem</td>\n",
       "      <td>The mitral valve is a small flap in the heart...</td>\n",
       "      <td>21</td>\n",
       "    </tr>\n",
       "    <tr>\n",
       "      <th>3</th>\n",
       "      <td>What can cause mitral valve prolapse?</td>\n",
       "      <td>&lt;noinput&gt;</td>\n",
       "      <td>Mitral valve prolapse is usually caused by pro...</td>\n",
       "      <td>Mitral valve problem</td>\n",
       "      <td>The mitral valve is a small flap in the heart...</td>\n",
       "      <td>21</td>\n",
       "    </tr>\n",
       "    <tr>\n",
       "      <th>4</th>\n",
       "      <td>What is mitral regurgitation?</td>\n",
       "      <td>&lt;noinput&gt;</td>\n",
       "      <td>Mitral regurgitation is a condition where the ...</td>\n",
       "      <td>Mitral valve problem</td>\n",
       "      <td>The mitral valve is a small flap in the heart...</td>\n",
       "      <td>21</td>\n",
       "    </tr>\n",
       "    <tr>\n",
       "      <th>...</th>\n",
       "      <td>...</td>\n",
       "      <td>...</td>\n",
       "      <td>...</td>\n",
       "      <td>...</td>\n",
       "      <td>...</td>\n",
       "      <td>...</td>\n",
       "    </tr>\n",
       "    <tr>\n",
       "      <th>15</th>\n",
       "      <td>What should food labels with the 6 food colour...</td>\n",
       "      <td>&lt;noinput&gt;</td>\n",
       "      <td>Food labels with the 6 food colours linked to ...</td>\n",
       "      <td>Food colours and hyperactivity</td>\n",
       "      <td>Research has found a possible link between ce...</td>\n",
       "      <td>20</td>\n",
       "    </tr>\n",
       "    <tr>\n",
       "      <th>16</th>\n",
       "      <td>How can I know if a product without packaging ...</td>\n",
       "      <td>&lt;noinput&gt;</td>\n",
       "      <td>If you buy food or drink without packaging, yo...</td>\n",
       "      <td>Food colours and hyperactivity</td>\n",
       "      <td>Research has found a possible link between ce...</td>\n",
       "      <td>20</td>\n",
       "    </tr>\n",
       "    <tr>\n",
       "      <th>17</th>\n",
       "      <td>Is there a website where I can find more infor...</td>\n",
       "      <td>&lt;noinput&gt;</td>\n",
       "      <td>Yes, you can find more information about food ...</td>\n",
       "      <td>Food colours and hyperactivity</td>\n",
       "      <td>Research has found a possible link between ce...</td>\n",
       "      <td>20</td>\n",
       "    </tr>\n",
       "    <tr>\n",
       "      <th>18</th>\n",
       "      <td>Can keeping a food diary help determine if foo...</td>\n",
       "      <td>&lt;noinput&gt;</td>\n",
       "      <td>Yes, keeping a diary of what your child eats a...</td>\n",
       "      <td>Food colours and hyperactivity</td>\n",
       "      <td>Research has found a possible link between ce...</td>\n",
       "      <td>20</td>\n",
       "    </tr>\n",
       "    <tr>\n",
       "      <th>19</th>\n",
       "      <td>Should I make changes to my child's diet witho...</td>\n",
       "      <td>&lt;noinput&gt;</td>\n",
       "      <td>No, you should not make changes to your child'...</td>\n",
       "      <td>Food colours and hyperactivity</td>\n",
       "      <td>Research has found a possible link between ce...</td>\n",
       "      <td>20</td>\n",
       "    </tr>\n",
       "  </tbody>\n",
       "</table>\n",
       "<p>21281 rows × 6 columns</p>\n",
       "</div>"
      ],
      "text/plain": [
       "                                                    q          i  \\\n",
       "0   What are the main problems that affect the mit...  <noinput>   \n",
       "1     What are the symptoms of mitral valve prolapse?  <noinput>   \n",
       "2               How is mitral valve prolapse treated?  <noinput>   \n",
       "3               What can cause mitral valve prolapse?  <noinput>   \n",
       "4                       What is mitral regurgitation?  <noinput>   \n",
       "..                                                ...        ...   \n",
       "15  What should food labels with the 6 food colour...  <noinput>   \n",
       "16  How can I know if a product without packaging ...  <noinput>   \n",
       "17  Is there a website where I can find more infor...  <noinput>   \n",
       "18  Can keeping a food diary help determine if foo...  <noinput>   \n",
       "19  Should I make changes to my child's diet witho...  <noinput>   \n",
       "\n",
       "                                                    a  \\\n",
       "0   The main problems that affect the mitral valve...   \n",
       "1   Symptoms of mitral valve prolapse can include ...   \n",
       "2   Treatment for mitral valve prolapse may involv...   \n",
       "3   Mitral valve prolapse is usually caused by pro...   \n",
       "4   Mitral regurgitation is a condition where the ...   \n",
       "..                                                ...   \n",
       "15  Food labels with the 6 food colours linked to ...   \n",
       "16  If you buy food or drink without packaging, yo...   \n",
       "17  Yes, you can find more information about food ...   \n",
       "18  Yes, keeping a diary of what your child eats a...   \n",
       "19  No, you should not make changes to your child'...   \n",
       "\n",
       "                          filename  \\\n",
       "0             Mitral valve problem   \n",
       "1             Mitral valve problem   \n",
       "2             Mitral valve problem   \n",
       "3             Mitral valve problem   \n",
       "4             Mitral valve problem   \n",
       "..                             ...   \n",
       "15  Food colours and hyperactivity   \n",
       "16  Food colours and hyperactivity   \n",
       "17  Food colours and hyperactivity   \n",
       "18  Food colours and hyperactivity   \n",
       "19  Food colours and hyperactivity   \n",
       "\n",
       "                                              context  count  \n",
       "0    The mitral valve is a small flap in the heart...     21  \n",
       "1    The mitral valve is a small flap in the heart...     21  \n",
       "2    The mitral valve is a small flap in the heart...     21  \n",
       "3    The mitral valve is a small flap in the heart...     21  \n",
       "4    The mitral valve is a small flap in the heart...     21  \n",
       "..                                                ...    ...  \n",
       "15   Research has found a possible link between ce...     20  \n",
       "16   Research has found a possible link between ce...     20  \n",
       "17   Research has found a possible link between ce...     20  \n",
       "18   Research has found a possible link between ce...     20  \n",
       "19   Research has found a possible link between ce...     20  \n",
       "\n",
       "[21281 rows x 6 columns]"
      ]
     },
     "execution_count": 22,
     "metadata": {},
     "output_type": "execute_result"
    }
   ],
   "source": [
    "df"
   ]
  },
  {
   "cell_type": "code",
   "execution_count": 23,
   "metadata": {
    "ExecuteTime": {
     "end_time": "2023-12-12T19:52:43.420962Z",
     "start_time": "2023-12-12T19:52:40.879194Z"
    }
   },
   "outputs": [],
   "source": [
    "df.to_csv(\"./qna_dataset_nhs.csv\")\n"
   ]
  }
 ],
 "metadata": {
  "kernelspec": {
   "display_name": "Python 3 (ipykernel)",
   "language": "python",
   "name": "python3"
  },
  "language_info": {
   "codemirror_mode": {
    "name": "ipython",
    "version": 3
   },
   "file_extension": ".py",
   "mimetype": "text/x-python",
   "name": "python",
   "nbconvert_exporter": "python",
   "pygments_lexer": "ipython3",
   "version": "3.10.13"
  }
 },
 "nbformat": 4,
 "nbformat_minor": 1
}
