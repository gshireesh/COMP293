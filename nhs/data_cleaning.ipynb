{
 "cells": [
  {
   "cell_type": "code",
   "execution_count": 25,
   "metadata": {
    "ExecuteTime": {
     "end_time": "2023-12-13T07:38:08.832092Z",
     "start_time": "2023-12-13T07:38:08.821819Z"
    }
   },
   "outputs": [
    {
     "data": {
      "text/plain": "1702453088816479000"
     },
     "execution_count": 25,
     "metadata": {},
     "output_type": "execute_result"
    }
   ],
   "source": [
    "import time\n",
    "\n",
    "import pandas as pd\n",
    "\n",
    "time.time_ns()"
   ]
  },
  {
   "cell_type": "code",
   "execution_count": 26,
   "metadata": {
    "ExecuteTime": {
     "end_time": "2023-12-13T07:38:09.780337Z",
     "start_time": "2023-12-13T07:38:09.421349Z"
    }
   },
   "outputs": [],
   "source": [
    "from utils import collect_data\n",
    "corpus = collect_data()"
   ]
  },
  {
   "cell_type": "code",
   "execution_count": 27,
   "metadata": {
    "ExecuteTime": {
     "end_time": "2023-12-13T07:38:15.062117Z",
     "start_time": "2023-12-13T07:38:15.042062Z"
    }
   },
   "outputs": [],
   "source": [
    "memo = {f\"{k}.csv\": dict() for k in corpus.keys()}"
   ]
  },
  {
   "cell_type": "code",
   "execution_count": 28,
   "metadata": {
    "ExecuteTime": {
     "end_time": "2023-12-13T07:38:21.548667Z",
     "start_time": "2023-12-13T07:38:19.693256Z"
    }
   },
   "outputs": [],
   "source": [
    "import pandas as pd\n",
    "for filename in corpus.keys():\n",
    "    df = pd.read_csv(\"./qna/\"+filename+\".csv\")\n",
    "    memo[filename+'.csv'][\"count\"] = len(df)"
   ]
  },
  {
   "cell_type": "code",
   "execution_count": 29,
   "metadata": {
    "ExecuteTime": {
     "end_time": "2023-12-13T07:38:49.929453Z",
     "start_time": "2023-12-13T07:38:49.889075Z"
    }
   },
   "outputs": [
    {
     "data": {
      "text/plain": "                                      name  value\n0           Food colours and hyperactivity     20\n1                       Lung health checks     20\n2                   Carotid endarterectomy     20\n3    Middle East respiratory syndrome MERS     20\n4                         Kidney infection     29\n..                                     ...    ...\n973                          Osteomyelitis     20\n974       Floaters and flashes in the eyes     20\n975                       TaySachs disease     20\n976                 Slapped cheek syndrome     20\n977                  Mitral valve problems     21\n\n[978 rows x 2 columns]",
      "text/html": "<div>\n<style scoped>\n    .dataframe tbody tr th:only-of-type {\n        vertical-align: middle;\n    }\n\n    .dataframe tbody tr th {\n        vertical-align: top;\n    }\n\n    .dataframe thead th {\n        text-align: right;\n    }\n</style>\n<table border=\"1\" class=\"dataframe\">\n  <thead>\n    <tr style=\"text-align: right;\">\n      <th></th>\n      <th>name</th>\n      <th>value</th>\n    </tr>\n  </thead>\n  <tbody>\n    <tr>\n      <th>0</th>\n      <td>Food colours and hyperactivity</td>\n      <td>20</td>\n    </tr>\n    <tr>\n      <th>1</th>\n      <td>Lung health checks</td>\n      <td>20</td>\n    </tr>\n    <tr>\n      <th>2</th>\n      <td>Carotid endarterectomy</td>\n      <td>20</td>\n    </tr>\n    <tr>\n      <th>3</th>\n      <td>Middle East respiratory syndrome MERS</td>\n      <td>20</td>\n    </tr>\n    <tr>\n      <th>4</th>\n      <td>Kidney infection</td>\n      <td>29</td>\n    </tr>\n    <tr>\n      <th>...</th>\n      <td>...</td>\n      <td>...</td>\n    </tr>\n    <tr>\n      <th>973</th>\n      <td>Osteomyelitis</td>\n      <td>20</td>\n    </tr>\n    <tr>\n      <th>974</th>\n      <td>Floaters and flashes in the eyes</td>\n      <td>20</td>\n    </tr>\n    <tr>\n      <th>975</th>\n      <td>TaySachs disease</td>\n      <td>20</td>\n    </tr>\n    <tr>\n      <th>976</th>\n      <td>Slapped cheek syndrome</td>\n      <td>20</td>\n    </tr>\n    <tr>\n      <th>977</th>\n      <td>Mitral valve problems</td>\n      <td>21</td>\n    </tr>\n  </tbody>\n</table>\n<p>978 rows × 2 columns</p>\n</div>"
     },
     "execution_count": 29,
     "metadata": {},
     "output_type": "execute_result"
    }
   ],
   "source": [
    "clean_index_name = lambda x: x.removesuffix(\"  NHS.txt.csv\")\n",
    "df = pd.DataFrame([{\"name\":clean_index_name(k),\"value\":v[\"count\"]} for k,v in memo.items()])\n",
    "df"
   ]
  },
  {
   "cell_type": "code",
   "execution_count": 30,
   "metadata": {
    "ExecuteTime": {
     "end_time": "2023-12-13T07:38:56.284954Z",
     "start_time": "2023-12-13T07:38:55.274553Z"
    }
   },
   "outputs": [
    {
     "ename": "AttributeError",
     "evalue": "module 'plotly.express' has no attribute 'holov'",
     "output_type": "error",
     "traceback": [
      "\u001B[0;31m---------------------------------------------------------------------------\u001B[0m",
      "\u001B[0;31mAttributeError\u001B[0m                            Traceback (most recent call last)",
      "Cell \u001B[0;32mIn[30], line 5\u001B[0m\n\u001B[1;32m      1\u001B[0m \u001B[38;5;28;01mimport\u001B[39;00m \u001B[38;5;21;01mplotly\u001B[39;00m\u001B[38;5;21;01m.\u001B[39;00m\u001B[38;5;21;01mexpress\u001B[39;00m \u001B[38;5;28;01mas\u001B[39;00m \u001B[38;5;21;01mpx\u001B[39;00m\n\u001B[1;32m      3\u001B[0m \u001B[38;5;28;01mimport\u001B[39;00m \u001B[38;5;21;01mplotly\u001B[39;00m\u001B[38;5;21;01m.\u001B[39;00m\u001B[38;5;21;01mexpress\u001B[39;00m \u001B[38;5;28;01mas\u001B[39;00m \u001B[38;5;21;01mpx\u001B[39;00m\n\u001B[0;32m----> 5\u001B[0m fig \u001B[38;5;241m=\u001B[39m \u001B[43mpx\u001B[49m\u001B[38;5;241;43m.\u001B[39;49m\u001B[43mholov\u001B[49m(df, r\u001B[38;5;241m=\u001B[39m\u001B[38;5;124m\"\u001B[39m\u001B[38;5;124mvalue\u001B[39m\u001B[38;5;124m\"\u001B[39m, theta\u001B[38;5;241m=\u001B[39m\u001B[38;5;124m\"\u001B[39m\u001B[38;5;124mname\u001B[39m\u001B[38;5;124m\"\u001B[39m,\n\u001B[1;32m      6\u001B[0m                    color\u001B[38;5;241m=\u001B[39m\u001B[38;5;124m\"\u001B[39m\u001B[38;5;124mvalue\u001B[39m\u001B[38;5;124m\"\u001B[39m, template\u001B[38;5;241m=\u001B[39m\u001B[38;5;124m\"\u001B[39m\u001B[38;5;124mplotly_dark\u001B[39m\u001B[38;5;124m\"\u001B[39m,\n\u001B[1;32m      7\u001B[0m                    color_discrete_sequence\u001B[38;5;241m=\u001B[39m px\u001B[38;5;241m.\u001B[39mcolors\u001B[38;5;241m.\u001B[39msequential\u001B[38;5;241m.\u001B[39mPlasma_r,\n\u001B[1;32m      8\u001B[0m                    width\u001B[38;5;241m=\u001B[39m\u001B[38;5;241m2400\u001B[39m, height\u001B[38;5;241m=\u001B[39m\u001B[38;5;241m2000\u001B[39m\n\u001B[1;32m      9\u001B[0m                 )\n\u001B[1;32m     10\u001B[0m fig\u001B[38;5;241m.\u001B[39mshow(renderer\u001B[38;5;241m=\u001B[39m\u001B[38;5;124m\"\u001B[39m\u001B[38;5;124mbrowser\u001B[39m\u001B[38;5;124m\"\u001B[39m)\n",
      "\u001B[0;31mAttributeError\u001B[0m: module 'plotly.express' has no attribute 'holov'"
     ]
    }
   ],
   "source": [
    "import plotly.express as px\n",
    "\n",
    "import plotly.express as px\n",
    "\n",
    "fig = px.holov(df, r=\"value\", theta=\"name\",\n",
    "                   color=\"value\", template=\"plotly_dark\",\n",
    "                   color_discrete_sequence= px.colors.sequential.Plasma_r,\n",
    "                   width=2400, height=2000\n",
    "                )\n",
    "fig.show(renderer=\"browser\")"
   ]
  },
  {
   "cell_type": "code",
   "execution_count": 7,
   "metadata": {},
   "outputs": [],
   "source": [
    "def show(fig):\n",
    "    import io\n",
    "    import plotly.io as pio\n",
    "    from PIL import Image\n",
    "    buf = io.BytesIO()\n",
    "    pio.write_image(fig, buf)\n",
    "    img = Image.open(buf)\n",
    "    img.show()\n",
    "\n",
    "show(fig)"
   ]
  },
  {
   "cell_type": "code",
   "execution_count": 15,
   "metadata": {
    "ExecuteTime": {
     "end_time": "2023-12-13T00:37:01.862880Z",
     "start_time": "2023-12-13T00:36:56.340456Z"
    }
   },
   "outputs": [],
   "source": [
    "fig.write_image(\"./fig1.png\")"
   ]
  },
  {
   "cell_type": "code",
   "execution_count": 32,
   "metadata": {
    "ExecuteTime": {
     "end_time": "2023-12-13T00:36:31.238257Z",
     "start_time": "2023-12-13T00:36:31.222877Z"
    }
   },
   "outputs": [],
   "source": [
    "import kaleido"
   ]
  },
  {
   "cell_type": "code",
   "execution_count": 31,
   "metadata": {
    "ExecuteTime": {
     "end_time": "2023-12-13T07:39:21.904253Z",
     "start_time": "2023-12-13T07:39:18.366045Z"
    }
   },
   "outputs": [],
   "source": [
    "df = None\n",
    "clean_index_name = lambda x: x.strip(\" NHS.txt.csv\")\n",
    "for filename in corpus.keys():\n",
    "    data = pd.read_csv(\"./qna/\"+filename+'.csv')\n",
    "    text = open(f\"./content/{filename}\").read()\n",
    "    data[\"filename\"] = clean_index_name(filename)\n",
    "    data[\"context\"] = text\n",
    "    data[\"count\"] = len(data)\n",
    "    df = pd.concat([data, df])"
   ]
  },
  {
   "cell_type": "code",
   "execution_count": 32,
   "metadata": {
    "ExecuteTime": {
     "end_time": "2023-12-13T07:39:22.502984Z",
     "start_time": "2023-12-13T07:39:22.498463Z"
    }
   },
   "outputs": [],
   "source": [
    "df.drop(columns = ['Unnamed: 0'], inplace = True)"
   ]
  },
  {
   "cell_type": "code",
   "execution_count": 33,
   "metadata": {
    "ExecuteTime": {
     "end_time": "2023-12-13T07:39:23.198511Z",
     "start_time": "2023-12-13T07:39:23.184177Z"
    }
   },
   "outputs": [
    {
     "data": {
      "text/plain": "                                                    q          i  \\\n0   What are the main problems that affect the mit...  <noinput>   \n1     What are the symptoms of mitral valve prolapse?  <noinput>   \n2               How is mitral valve prolapse treated?  <noinput>   \n3               What can cause mitral valve prolapse?  <noinput>   \n4                       What is mitral regurgitation?  <noinput>   \n..                                                ...        ...   \n15  What should food labels with the 6 food colour...  <noinput>   \n16  How can I know if a product without packaging ...  <noinput>   \n17  Is there a website where I can find more infor...  <noinput>   \n18  Can keeping a food diary help determine if foo...  <noinput>   \n19  Should I make changes to my child's diet witho...  <noinput>   \n\n                                                    a  \\\n0   The main problems that affect the mitral valve...   \n1   Symptoms of mitral valve prolapse can include ...   \n2   Treatment for mitral valve prolapse may involv...   \n3   Mitral valve prolapse is usually caused by pro...   \n4   Mitral regurgitation is a condition where the ...   \n..                                                ...   \n15  Food labels with the 6 food colours linked to ...   \n16  If you buy food or drink without packaging, yo...   \n17  Yes, you can find more information about food ...   \n18  Yes, keeping a diary of what your child eats a...   \n19  No, you should not make changes to your child'...   \n\n                          filename  \\\n0             Mitral valve problem   \n1             Mitral valve problem   \n2             Mitral valve problem   \n3             Mitral valve problem   \n4             Mitral valve problem   \n..                             ...   \n15  Food colours and hyperactivity   \n16  Food colours and hyperactivity   \n17  Food colours and hyperactivity   \n18  Food colours and hyperactivity   \n19  Food colours and hyperactivity   \n\n                                              context  count  \n0    The mitral valve is a small flap in the heart...     21  \n1    The mitral valve is a small flap in the heart...     21  \n2    The mitral valve is a small flap in the heart...     21  \n3    The mitral valve is a small flap in the heart...     21  \n4    The mitral valve is a small flap in the heart...     21  \n..                                                ...    ...  \n15   Research has found a possible link between ce...     20  \n16   Research has found a possible link between ce...     20  \n17   Research has found a possible link between ce...     20  \n18   Research has found a possible link between ce...     20  \n19   Research has found a possible link between ce...     20  \n\n[21281 rows x 6 columns]",
      "text/html": "<div>\n<style scoped>\n    .dataframe tbody tr th:only-of-type {\n        vertical-align: middle;\n    }\n\n    .dataframe tbody tr th {\n        vertical-align: top;\n    }\n\n    .dataframe thead th {\n        text-align: right;\n    }\n</style>\n<table border=\"1\" class=\"dataframe\">\n  <thead>\n    <tr style=\"text-align: right;\">\n      <th></th>\n      <th>q</th>\n      <th>i</th>\n      <th>a</th>\n      <th>filename</th>\n      <th>context</th>\n      <th>count</th>\n    </tr>\n  </thead>\n  <tbody>\n    <tr>\n      <th>0</th>\n      <td>What are the main problems that affect the mit...</td>\n      <td>&lt;noinput&gt;</td>\n      <td>The main problems that affect the mitral valve...</td>\n      <td>Mitral valve problem</td>\n      <td>The mitral valve is a small flap in the heart...</td>\n      <td>21</td>\n    </tr>\n    <tr>\n      <th>1</th>\n      <td>What are the symptoms of mitral valve prolapse?</td>\n      <td>&lt;noinput&gt;</td>\n      <td>Symptoms of mitral valve prolapse can include ...</td>\n      <td>Mitral valve problem</td>\n      <td>The mitral valve is a small flap in the heart...</td>\n      <td>21</td>\n    </tr>\n    <tr>\n      <th>2</th>\n      <td>How is mitral valve prolapse treated?</td>\n      <td>&lt;noinput&gt;</td>\n      <td>Treatment for mitral valve prolapse may involv...</td>\n      <td>Mitral valve problem</td>\n      <td>The mitral valve is a small flap in the heart...</td>\n      <td>21</td>\n    </tr>\n    <tr>\n      <th>3</th>\n      <td>What can cause mitral valve prolapse?</td>\n      <td>&lt;noinput&gt;</td>\n      <td>Mitral valve prolapse is usually caused by pro...</td>\n      <td>Mitral valve problem</td>\n      <td>The mitral valve is a small flap in the heart...</td>\n      <td>21</td>\n    </tr>\n    <tr>\n      <th>4</th>\n      <td>What is mitral regurgitation?</td>\n      <td>&lt;noinput&gt;</td>\n      <td>Mitral regurgitation is a condition where the ...</td>\n      <td>Mitral valve problem</td>\n      <td>The mitral valve is a small flap in the heart...</td>\n      <td>21</td>\n    </tr>\n    <tr>\n      <th>...</th>\n      <td>...</td>\n      <td>...</td>\n      <td>...</td>\n      <td>...</td>\n      <td>...</td>\n      <td>...</td>\n    </tr>\n    <tr>\n      <th>15</th>\n      <td>What should food labels with the 6 food colour...</td>\n      <td>&lt;noinput&gt;</td>\n      <td>Food labels with the 6 food colours linked to ...</td>\n      <td>Food colours and hyperactivity</td>\n      <td>Research has found a possible link between ce...</td>\n      <td>20</td>\n    </tr>\n    <tr>\n      <th>16</th>\n      <td>How can I know if a product without packaging ...</td>\n      <td>&lt;noinput&gt;</td>\n      <td>If you buy food or drink without packaging, yo...</td>\n      <td>Food colours and hyperactivity</td>\n      <td>Research has found a possible link between ce...</td>\n      <td>20</td>\n    </tr>\n    <tr>\n      <th>17</th>\n      <td>Is there a website where I can find more infor...</td>\n      <td>&lt;noinput&gt;</td>\n      <td>Yes, you can find more information about food ...</td>\n      <td>Food colours and hyperactivity</td>\n      <td>Research has found a possible link between ce...</td>\n      <td>20</td>\n    </tr>\n    <tr>\n      <th>18</th>\n      <td>Can keeping a food diary help determine if foo...</td>\n      <td>&lt;noinput&gt;</td>\n      <td>Yes, keeping a diary of what your child eats a...</td>\n      <td>Food colours and hyperactivity</td>\n      <td>Research has found a possible link between ce...</td>\n      <td>20</td>\n    </tr>\n    <tr>\n      <th>19</th>\n      <td>Should I make changes to my child's diet witho...</td>\n      <td>&lt;noinput&gt;</td>\n      <td>No, you should not make changes to your child'...</td>\n      <td>Food colours and hyperactivity</td>\n      <td>Research has found a possible link between ce...</td>\n      <td>20</td>\n    </tr>\n  </tbody>\n</table>\n<p>21281 rows × 6 columns</p>\n</div>"
     },
     "execution_count": 33,
     "metadata": {},
     "output_type": "execute_result"
    }
   ],
   "source": [
    "df"
   ]
  },
  {
   "cell_type": "code",
   "execution_count": 23,
   "metadata": {
    "ExecuteTime": {
     "end_time": "2023-12-12T19:52:43.420962Z",
     "start_time": "2023-12-12T19:52:40.879194Z"
    }
   },
   "outputs": [],
   "source": [
    "def addText(row):\n",
    "    return f\"\"\"\n",
    "    <s>\n",
    "    [INST] <<SYS>>{row['context']}<</SYS>> {row['q']} [/INST]\n",
    "    {row['a']}\n",
    "    </s>\n",
    "    \"\"\"\n",
    "\n",
    "df['text'] = df.apply(addText, axis=1)\n"
   ]
  }
 ],
 "metadata": {
  "kernelspec": {
   "display_name": "Python 3 (ipykernel)",
   "language": "python",
   "name": "python3"
  },
  "language_info": {
   "codemirror_mode": {
    "name": "ipython",
    "version": 3
   },
   "file_extension": ".py",
   "mimetype": "text/x-python",
   "name": "python",
   "nbconvert_exporter": "python",
   "pygments_lexer": "ipython3",
   "version": "3.10.13"
  }
 },
 "nbformat": 4,
 "nbformat_minor": 1
}
